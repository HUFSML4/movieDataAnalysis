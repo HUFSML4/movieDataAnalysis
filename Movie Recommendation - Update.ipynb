{
 "cells": [
  {
   "cell_type": "markdown",
   "id": "167dccf9",
   "metadata": {},
   "source": [
    "# Movie Recommendation"
   ]
  },
  {
   "cell_type": "markdown",
   "id": "a5c641c0",
   "metadata": {},
   "source": [
    "## Call Data"
   ]
  },
  {
   "cell_type": "code",
   "execution_count": 1,
   "id": "d39873e8",
   "metadata": {},
   "outputs": [],
   "source": [
    "import pandas as pd\n",
    "import numpy as np\n",
    "import json"
   ]
  },
  {
   "cell_type": "code",
   "execution_count": 2,
   "id": "a93250fb",
   "metadata": {},
   "outputs": [],
   "source": [
    "movies = pd.read_csv('C:/Users/maste/Documents/대학교/대학교 3학년 2학기/기계학습/Final Project/tmdb_5000_movies.csv')\n",
    "credits = pd.read_csv('C:/Users/maste/Documents/대학교/대학교 3학년 2학기/기계학습/Final Project/tmdb_5000_credits.csv')"
   ]
  },
  {
   "cell_type": "markdown",
   "id": "d93eed6c",
   "metadata": {},
   "source": [
    "## Data Cleaning"
   ]
  },
  {
   "cell_type": "code",
   "execution_count": 3,
   "id": "bdee78f0",
   "metadata": {},
   "outputs": [],
   "source": [
    "for index, row in movies.iterrows():\n",
    "    genre_list = []\n",
    "    for genre in json.loads(row['genres']):\n",
    "        genre_list.append(genre['name'])\n",
    "    movies.at[index, 'genres'] = str(genre_list)"
   ]
  },
  {
   "cell_type": "code",
   "execution_count": 4,
   "id": "d8811e78",
   "metadata": {},
   "outputs": [],
   "source": [
    "for index, row in movies.iterrows():\n",
    "    keyword_list = []\n",
    "    for keyword in json.loads(row['keywords']):\n",
    "        keyword_list.append(keyword['name'])\n",
    "    movies.at[index, 'keywords'] = str(keyword_list)"
   ]
  },
  {
   "cell_type": "code",
   "execution_count": 5,
   "id": "a6772056",
   "metadata": {},
   "outputs": [],
   "source": [
    "for index, row in credits.iterrows():\n",
    "    cast_list = []\n",
    "    for cast in json.loads(row['cast']):\n",
    "        cast_list.append(cast['name'])\n",
    "    credits.at[index, 'cast'] = str(cast_list)"
   ]
  },
  {
   "cell_type": "code",
   "execution_count": 6,
   "id": "9d858e5b",
   "metadata": {},
   "outputs": [],
   "source": [
    "for index, row in credits.iterrows():\n",
    "    director_list = []\n",
    "    for crew in json.loads(row['crew']):\n",
    "        if crew['job'] == 'Director':\n",
    "            director_list.append(crew['name'])\n",
    "    credits.at[index, 'director'] = str(director_list)\n",
    "\n",
    "credits.drop(columns='crew', inplace=True)"
   ]
  },
  {
   "cell_type": "code",
   "execution_count": 7,
   "id": "f823c23f",
   "metadata": {},
   "outputs": [
    {
     "data": {
      "text/html": [
       "<div>\n",
       "<style scoped>\n",
       "    .dataframe tbody tr th:only-of-type {\n",
       "        vertical-align: middle;\n",
       "    }\n",
       "\n",
       "    .dataframe tbody tr th {\n",
       "        vertical-align: top;\n",
       "    }\n",
       "\n",
       "    .dataframe thead th {\n",
       "        text-align: right;\n",
       "    }\n",
       "</style>\n",
       "<table border=\"1\" class=\"dataframe\">\n",
       "  <thead>\n",
       "    <tr style=\"text-align: right;\">\n",
       "      <th></th>\n",
       "      <th>id</th>\n",
       "      <th>original_title</th>\n",
       "      <th>genres</th>\n",
       "      <th>cast</th>\n",
       "      <th>vote_average</th>\n",
       "      <th>director</th>\n",
       "      <th>keywords</th>\n",
       "    </tr>\n",
       "  </thead>\n",
       "  <tbody>\n",
       "    <tr>\n",
       "      <th>0</th>\n",
       "      <td>19995</td>\n",
       "      <td>Avatar</td>\n",
       "      <td>['Action', 'Adventure', 'Fantasy', 'Science Fi...</td>\n",
       "      <td>['Sam Worthington', 'Zoe Saldana', 'Sigourney ...</td>\n",
       "      <td>7.2</td>\n",
       "      <td>['James Cameron']</td>\n",
       "      <td>['culture clash', 'future', 'space war', 'spac...</td>\n",
       "    </tr>\n",
       "    <tr>\n",
       "      <th>1</th>\n",
       "      <td>285</td>\n",
       "      <td>Pirates of the Caribbean: At World's End</td>\n",
       "      <td>['Adventure', 'Fantasy', 'Action']</td>\n",
       "      <td>['Johnny Depp', 'Orlando Bloom', 'Keira Knight...</td>\n",
       "      <td>6.9</td>\n",
       "      <td>['Gore Verbinski']</td>\n",
       "      <td>['ocean', 'drug abuse', 'exotic island', 'east...</td>\n",
       "    </tr>\n",
       "    <tr>\n",
       "      <th>2</th>\n",
       "      <td>206647</td>\n",
       "      <td>Spectre</td>\n",
       "      <td>['Action', 'Adventure', 'Crime']</td>\n",
       "      <td>['Daniel Craig', 'Christoph Waltz', 'Léa Seydo...</td>\n",
       "      <td>6.3</td>\n",
       "      <td>['Sam Mendes']</td>\n",
       "      <td>['spy', 'based on novel', 'secret agent', 'seq...</td>\n",
       "    </tr>\n",
       "    <tr>\n",
       "      <th>3</th>\n",
       "      <td>49026</td>\n",
       "      <td>The Dark Knight Rises</td>\n",
       "      <td>['Action', 'Crime', 'Drama', 'Thriller']</td>\n",
       "      <td>['Christian Bale', 'Michael Caine', 'Gary Oldm...</td>\n",
       "      <td>7.6</td>\n",
       "      <td>['Christopher Nolan']</td>\n",
       "      <td>['dc comics', 'crime fighter', 'terrorist', 's...</td>\n",
       "    </tr>\n",
       "    <tr>\n",
       "      <th>4</th>\n",
       "      <td>49529</td>\n",
       "      <td>John Carter</td>\n",
       "      <td>['Action', 'Adventure', 'Science Fiction']</td>\n",
       "      <td>['Taylor Kitsch', 'Lynn Collins', 'Samantha Mo...</td>\n",
       "      <td>6.1</td>\n",
       "      <td>['Andrew Stanton']</td>\n",
       "      <td>['based on novel', 'mars', 'medallion', 'space...</td>\n",
       "    </tr>\n",
       "  </tbody>\n",
       "</table>\n",
       "</div>"
      ],
      "text/plain": [
       "       id                            original_title  \\\n",
       "0   19995                                    Avatar   \n",
       "1     285  Pirates of the Caribbean: At World's End   \n",
       "2  206647                                   Spectre   \n",
       "3   49026                     The Dark Knight Rises   \n",
       "4   49529                               John Carter   \n",
       "\n",
       "                                              genres  \\\n",
       "0  ['Action', 'Adventure', 'Fantasy', 'Science Fi...   \n",
       "1                 ['Adventure', 'Fantasy', 'Action']   \n",
       "2                   ['Action', 'Adventure', 'Crime']   \n",
       "3           ['Action', 'Crime', 'Drama', 'Thriller']   \n",
       "4         ['Action', 'Adventure', 'Science Fiction']   \n",
       "\n",
       "                                                cast  vote_average  \\\n",
       "0  ['Sam Worthington', 'Zoe Saldana', 'Sigourney ...           7.2   \n",
       "1  ['Johnny Depp', 'Orlando Bloom', 'Keira Knight...           6.9   \n",
       "2  ['Daniel Craig', 'Christoph Waltz', 'Léa Seydo...           6.3   \n",
       "3  ['Christian Bale', 'Michael Caine', 'Gary Oldm...           7.6   \n",
       "4  ['Taylor Kitsch', 'Lynn Collins', 'Samantha Mo...           6.1   \n",
       "\n",
       "                director                                           keywords  \n",
       "0      ['James Cameron']  ['culture clash', 'future', 'space war', 'spac...  \n",
       "1     ['Gore Verbinski']  ['ocean', 'drug abuse', 'exotic island', 'east...  \n",
       "2         ['Sam Mendes']  ['spy', 'based on novel', 'secret agent', 'seq...  \n",
       "3  ['Christopher Nolan']  ['dc comics', 'crime fighter', 'terrorist', 's...  \n",
       "4     ['Andrew Stanton']  ['based on novel', 'mars', 'medallion', 'space...  "
      ]
     },
     "execution_count": 7,
     "metadata": {},
     "output_type": "execute_result"
    }
   ],
   "source": [
    "movies = movies.merge(credits,left_on='id',right_on='movie_id',how='left')\n",
    "movies = movies[['id','original_title','genres','cast','vote_average','director','keywords']]\n",
    "movies.head()"
   ]
  },
  {
   "cell_type": "code",
   "execution_count": 8,
   "id": "604aac42",
   "metadata": {
    "scrolled": true
   },
   "outputs": [
    {
     "data": {
      "text/html": [
       "<div>\n",
       "<style scoped>\n",
       "    .dataframe tbody tr th:only-of-type {\n",
       "        vertical-align: middle;\n",
       "    }\n",
       "\n",
       "    .dataframe tbody tr th {\n",
       "        vertical-align: top;\n",
       "    }\n",
       "\n",
       "    .dataframe thead th {\n",
       "        text-align: right;\n",
       "    }\n",
       "</style>\n",
       "<table border=\"1\" class=\"dataframe\">\n",
       "  <thead>\n",
       "    <tr style=\"text-align: right;\">\n",
       "      <th></th>\n",
       "      <th>new_id</th>\n",
       "      <th>original_title</th>\n",
       "      <th>genres</th>\n",
       "      <th>cast</th>\n",
       "      <th>vote_average</th>\n",
       "      <th>director</th>\n",
       "      <th>keywords</th>\n",
       "    </tr>\n",
       "  </thead>\n",
       "  <tbody>\n",
       "    <tr>\n",
       "      <th>0</th>\n",
       "      <td>0</td>\n",
       "      <td>Avatar</td>\n",
       "      <td>['Action', 'Adventure', 'Fantasy', 'Science Fi...</td>\n",
       "      <td>['Sam Worthington', 'Zoe Saldana', 'Sigourney ...</td>\n",
       "      <td>7.2</td>\n",
       "      <td>['James Cameron']</td>\n",
       "      <td>['culture clash', 'future', 'space war', 'spac...</td>\n",
       "    </tr>\n",
       "    <tr>\n",
       "      <th>1</th>\n",
       "      <td>1</td>\n",
       "      <td>Pirates of the Caribbean: At World's End</td>\n",
       "      <td>['Adventure', 'Fantasy', 'Action']</td>\n",
       "      <td>['Johnny Depp', 'Orlando Bloom', 'Keira Knight...</td>\n",
       "      <td>6.9</td>\n",
       "      <td>['Gore Verbinski']</td>\n",
       "      <td>['ocean', 'drug abuse', 'exotic island', 'east...</td>\n",
       "    </tr>\n",
       "    <tr>\n",
       "      <th>2</th>\n",
       "      <td>2</td>\n",
       "      <td>Spectre</td>\n",
       "      <td>['Action', 'Adventure', 'Crime']</td>\n",
       "      <td>['Daniel Craig', 'Christoph Waltz', 'Léa Seydo...</td>\n",
       "      <td>6.3</td>\n",
       "      <td>['Sam Mendes']</td>\n",
       "      <td>['spy', 'based on novel', 'secret agent', 'seq...</td>\n",
       "    </tr>\n",
       "    <tr>\n",
       "      <th>3</th>\n",
       "      <td>3</td>\n",
       "      <td>The Dark Knight Rises</td>\n",
       "      <td>['Action', 'Crime', 'Drama', 'Thriller']</td>\n",
       "      <td>['Christian Bale', 'Michael Caine', 'Gary Oldm...</td>\n",
       "      <td>7.6</td>\n",
       "      <td>['Christopher Nolan']</td>\n",
       "      <td>['dc comics', 'crime fighter', 'terrorist', 's...</td>\n",
       "    </tr>\n",
       "    <tr>\n",
       "      <th>4</th>\n",
       "      <td>4</td>\n",
       "      <td>John Carter</td>\n",
       "      <td>['Action', 'Adventure', 'Science Fiction']</td>\n",
       "      <td>['Taylor Kitsch', 'Lynn Collins', 'Samantha Mo...</td>\n",
       "      <td>6.1</td>\n",
       "      <td>['Andrew Stanton']</td>\n",
       "      <td>['based on novel', 'mars', 'medallion', 'space...</td>\n",
       "    </tr>\n",
       "  </tbody>\n",
       "</table>\n",
       "</div>"
      ],
      "text/plain": [
       "   new_id                            original_title  \\\n",
       "0       0                                    Avatar   \n",
       "1       1  Pirates of the Caribbean: At World's End   \n",
       "2       2                                   Spectre   \n",
       "3       3                     The Dark Knight Rises   \n",
       "4       4                               John Carter   \n",
       "\n",
       "                                              genres  \\\n",
       "0  ['Action', 'Adventure', 'Fantasy', 'Science Fi...   \n",
       "1                 ['Adventure', 'Fantasy', 'Action']   \n",
       "2                   ['Action', 'Adventure', 'Crime']   \n",
       "3           ['Action', 'Crime', 'Drama', 'Thriller']   \n",
       "4         ['Action', 'Adventure', 'Science Fiction']   \n",
       "\n",
       "                                                cast  vote_average  \\\n",
       "0  ['Sam Worthington', 'Zoe Saldana', 'Sigourney ...           7.2   \n",
       "1  ['Johnny Depp', 'Orlando Bloom', 'Keira Knight...           6.9   \n",
       "2  ['Daniel Craig', 'Christoph Waltz', 'Léa Seydo...           6.3   \n",
       "3  ['Christian Bale', 'Michael Caine', 'Gary Oldm...           7.6   \n",
       "4  ['Taylor Kitsch', 'Lynn Collins', 'Samantha Mo...           6.1   \n",
       "\n",
       "                director                                           keywords  \n",
       "0      ['James Cameron']  ['culture clash', 'future', 'space war', 'spac...  \n",
       "1     ['Gore Verbinski']  ['ocean', 'drug abuse', 'exotic island', 'east...  \n",
       "2         ['Sam Mendes']  ['spy', 'based on novel', 'secret agent', 'seq...  \n",
       "3  ['Christopher Nolan']  ['dc comics', 'crime fighter', 'terrorist', 's...  \n",
       "4     ['Andrew Stanton']  ['based on novel', 'mars', 'medallion', 'space...  "
      ]
     },
     "execution_count": 8,
     "metadata": {},
     "output_type": "execute_result"
    }
   ],
   "source": [
    "new_id = list(range(0,movies.shape[0]))\n",
    "movies['new_id'] = new_id\n",
    "movies = movies[['new_id','original_title','genres','cast','vote_average','director','keywords']]\n",
    "movies.head()"
   ]
  },
  {
   "cell_type": "markdown",
   "id": "5224014d",
   "metadata": {},
   "source": [
    "### Genre Column"
   ]
  },
  {
   "cell_type": "code",
   "execution_count": 9,
   "id": "6c3f3b8d",
   "metadata": {},
   "outputs": [],
   "source": [
    "movies['genres'] = movies['genres'].str.strip('[]').str.replace(' ', '').str.replace(\"'\", '').str.replace('\"', '')\n",
    "movies['genres'] = movies['genres'].str.split(',')"
   ]
  },
  {
   "cell_type": "code",
   "execution_count": 10,
   "id": "37467fea",
   "metadata": {},
   "outputs": [],
   "source": [
    "def sort_and_join(genre_list):\n",
    "    return ', '.join(sorted(genre_list))\n",
    "\n",
    "movies['genres'] = movies['genres'].apply(sort_and_join)"
   ]
  },
  {
   "cell_type": "code",
   "execution_count": 11,
   "id": "a863b107",
   "metadata": {},
   "outputs": [],
   "source": [
    "genre_list = []\n",
    "\n",
    "for genres in movies['genres']:\n",
    "    for genre in genres.split(', '):\n",
    "        if genre not in genre_list and genre != '':\n",
    "            genre_list.append(genre)\n",
    "\n",
    "def binary(movie_genres, genre_list):\n",
    "    binary_list = []\n",
    "\n",
    "    for genre in genre_list:\n",
    "        if genre in movie_genres:\n",
    "            binary_list.append(1)\n",
    "        else:\n",
    "            binary_list.append(0)\n",
    "\n",
    "    return binary_list"
   ]
  },
  {
   "cell_type": "code",
   "execution_count": 12,
   "id": "7773c905",
   "metadata": {},
   "outputs": [
    {
     "data": {
      "text/plain": [
       "0    [1, 1, 1, 1, 0, 0, 0, 0, 0, 0, 0, 0, 0, 0, 0, ...\n",
       "1    [1, 1, 1, 0, 0, 0, 0, 0, 0, 0, 0, 0, 0, 0, 0, ...\n",
       "2    [1, 1, 0, 0, 1, 0, 0, 0, 0, 0, 0, 0, 0, 0, 0, ...\n",
       "3    [1, 0, 0, 0, 1, 1, 1, 0, 0, 0, 0, 0, 0, 0, 0, ...\n",
       "4    [1, 1, 0, 1, 0, 0, 0, 0, 0, 0, 0, 0, 0, 0, 0, ...\n",
       "Name: binary_genres, dtype: object"
      ]
     },
     "execution_count": 12,
     "metadata": {},
     "output_type": "execute_result"
    }
   ],
   "source": [
    "movies['binary_genres'] = movies['genres'].apply(binary, genre_list=genre_list)\n",
    "movies['binary_genres'].head()"
   ]
  },
  {
   "cell_type": "markdown",
   "id": "98bbe446",
   "metadata": {},
   "source": [
    "### Director Column"
   ]
  },
  {
   "cell_type": "code",
   "execution_count": 13,
   "id": "cb0eaae4",
   "metadata": {},
   "outputs": [],
   "source": [
    "def remove_empty(i):\n",
    "    if i is None:\n",
    "        return ''\n",
    "    return str(i)\n",
    "movies['director'] = movies['director'].apply(remove_empty)"
   ]
  },
  {
   "cell_type": "code",
   "execution_count": 14,
   "id": "fcef9d9d",
   "metadata": {},
   "outputs": [],
   "source": [
    "director_list = []\n",
    "\n",
    "for i in movies['director']:\n",
    "    if i not in director_list:\n",
    "        director_list.append(i)\n",
    "\n",
    "def binary(director, director_list):\n",
    "    binary_list = []\n",
    "    for d in director_list:\n",
    "        if d in director:\n",
    "            binary_list.append(1)\n",
    "        else:\n",
    "            binary_list.append(0)\n",
    "    return binary_list"
   ]
  },
  {
   "cell_type": "code",
   "execution_count": 15,
   "id": "d531edb8",
   "metadata": {},
   "outputs": [
    {
     "data": {
      "text/plain": [
       "0    [1, 0, 0, 0, 0, 0, 0, 0, 0, 0, 0, 0, 0, 0, 0, ...\n",
       "1    [0, 1, 0, 0, 0, 0, 0, 0, 0, 0, 0, 0, 0, 0, 0, ...\n",
       "2    [0, 0, 1, 0, 0, 0, 0, 0, 0, 0, 0, 0, 0, 0, 0, ...\n",
       "3    [0, 0, 0, 1, 0, 0, 0, 0, 0, 0, 0, 0, 0, 0, 0, ...\n",
       "4    [0, 0, 0, 0, 1, 0, 0, 0, 0, 0, 0, 0, 0, 0, 0, ...\n",
       "Name: binary_director, dtype: object"
      ]
     },
     "execution_count": 15,
     "metadata": {},
     "output_type": "execute_result"
    }
   ],
   "source": [
    "movies['binary_director'] = movies['director'].apply(binary, director_list=director_list)\n",
    "movies['binary_director'].head()"
   ]
  },
  {
   "cell_type": "markdown",
   "id": "fc31aa7b",
   "metadata": {},
   "source": [
    "### Cast Column"
   ]
  },
  {
   "cell_type": "code",
   "execution_count": 16,
   "id": "1e116782",
   "metadata": {},
   "outputs": [],
   "source": [
    "movies['cast'] = movies['cast'].str.strip('[]').str.replace(' ','').str.replace(\"'\",'').str.replace('\"','')\n",
    "movies['cast'] = movies['cast'].str.split(',')"
   ]
  },
  {
   "cell_type": "code",
   "execution_count": 17,
   "id": "7f3dfefd",
   "metadata": {
    "scrolled": true
   },
   "outputs": [],
   "source": [
    "cast_list = []\n",
    "\n",
    "for index, row in movies.iterrows():\n",
    "    cast = row[\"cast\"]\n",
    "    \n",
    "    for i in cast:\n",
    "        if i not in cast_list:\n",
    "            cast_list.append(i)\n",
    "\n",
    "def binary(cast):\n",
    "    binary_list = []\n",
    "    \n",
    "    for actor in cast_list:\n",
    "        if actor in cast:\n",
    "            binary_list.append(1)\n",
    "        else:\n",
    "            binary_list.append(0)\n",
    "    \n",
    "    return binary_list"
   ]
  },
  {
   "cell_type": "code",
   "execution_count": 18,
   "id": "2686f368",
   "metadata": {},
   "outputs": [
    {
     "data": {
      "text/plain": [
       "0    [1, 1, 1, 1, 1, 1, 1, 1, 1, 1, 1, 1, 1, 1, 1, ...\n",
       "1    [0, 0, 0, 0, 0, 0, 0, 0, 0, 0, 0, 0, 0, 0, 0, ...\n",
       "2    [0, 0, 0, 0, 0, 0, 0, 0, 0, 0, 0, 0, 0, 0, 0, ...\n",
       "3    [0, 0, 0, 0, 0, 0, 0, 0, 0, 0, 0, 0, 0, 0, 0, ...\n",
       "4    [0, 0, 0, 0, 0, 0, 0, 0, 0, 0, 0, 0, 0, 0, 0, ...\n",
       "Name: binary_cast, dtype: object"
      ]
     },
     "execution_count": 18,
     "metadata": {},
     "output_type": "execute_result"
    }
   ],
   "source": [
    "movies['binary_cast'] = movies['cast'].apply(binary)\n",
    "movies['binary_cast'].head()"
   ]
  },
  {
   "cell_type": "markdown",
   "id": "2b21f4b9",
   "metadata": {},
   "source": [
    "### Keyword Column"
   ]
  },
  {
   "cell_type": "code",
   "execution_count": 19,
   "id": "17732bd8",
   "metadata": {},
   "outputs": [],
   "source": [
    "movies['keywords'] = movies['keywords'].str.strip('[]').str.replace(' ', '').str.replace(\"'\", '').str.replace('\"', '')\n",
    "movies['keywords'] = movies['keywords'].str.split(',')"
   ]
  },
  {
   "cell_type": "code",
   "execution_count": 20,
   "id": "0f138eee",
   "metadata": {},
   "outputs": [],
   "source": [
    "words_list = []\n",
    "\n",
    "for index, row in movies.iterrows():\n",
    "    genres = row[\"keywords\"]\n",
    "    \n",
    "    for genre in genres:\n",
    "        if genre not in words_list:\n",
    "            words_list.append(genre)\n",
    "\n",
    "def binary(keywords):\n",
    "    binary_list = []\n",
    "    for word in words_list:\n",
    "        if word in keywords:\n",
    "            binary_list.append(1)\n",
    "        else:\n",
    "            binary_list.append(0)\n",
    "    return binary_list"
   ]
  },
  {
   "cell_type": "code",
   "execution_count": 21,
   "id": "12df63c6",
   "metadata": {
    "scrolled": true
   },
   "outputs": [
    {
     "data": {
      "text/plain": [
       "0    [1, 1, 1, 1, 1, 1, 1, 1, 1, 1, 1, 1, 1, 1, 1, ...\n",
       "1    [0, 0, 0, 0, 0, 0, 0, 0, 0, 0, 0, 0, 0, 0, 0, ...\n",
       "2    [0, 0, 0, 0, 0, 0, 0, 0, 0, 0, 0, 0, 0, 0, 0, ...\n",
       "3    [0, 0, 0, 0, 0, 0, 0, 0, 0, 0, 0, 0, 0, 0, 0, ...\n",
       "4    [0, 0, 0, 0, 0, 1, 0, 0, 0, 1, 0, 0, 0, 0, 0, ...\n",
       "Name: binary_words, dtype: object"
      ]
     },
     "execution_count": 21,
     "metadata": {},
     "output_type": "execute_result"
    }
   ],
   "source": [
    "movies['binary_words'] = movies['keywords'].apply(binary)\n",
    "movies['binary_words'].head()"
   ]
  },
  {
   "cell_type": "code",
   "execution_count": 22,
   "id": "80cbe67d",
   "metadata": {},
   "outputs": [
    {
     "data": {
      "text/html": [
       "<div>\n",
       "<style scoped>\n",
       "    .dataframe tbody tr th:only-of-type {\n",
       "        vertical-align: middle;\n",
       "    }\n",
       "\n",
       "    .dataframe tbody tr th {\n",
       "        vertical-align: top;\n",
       "    }\n",
       "\n",
       "    .dataframe thead th {\n",
       "        text-align: right;\n",
       "    }\n",
       "</style>\n",
       "<table border=\"1\" class=\"dataframe\">\n",
       "  <thead>\n",
       "    <tr style=\"text-align: right;\">\n",
       "      <th></th>\n",
       "      <th>new_id</th>\n",
       "      <th>original_title</th>\n",
       "      <th>genres</th>\n",
       "      <th>cast</th>\n",
       "      <th>vote_average</th>\n",
       "      <th>director</th>\n",
       "      <th>keywords</th>\n",
       "      <th>binary_genres</th>\n",
       "      <th>binary_director</th>\n",
       "      <th>binary_cast</th>\n",
       "      <th>binary_words</th>\n",
       "    </tr>\n",
       "  </thead>\n",
       "  <tbody>\n",
       "    <tr>\n",
       "      <th>0</th>\n",
       "      <td>0</td>\n",
       "      <td>Avatar</td>\n",
       "      <td>Action, Adventure, Fantasy, ScienceFiction</td>\n",
       "      <td>[SamWorthington, ZoeSaldana, SigourneyWeaver, ...</td>\n",
       "      <td>7.2</td>\n",
       "      <td>['James Cameron']</td>\n",
       "      <td>[cultureclash, future, spacewar, spacecolony, ...</td>\n",
       "      <td>[1, 1, 1, 1, 0, 0, 0, 0, 0, 0, 0, 0, 0, 0, 0, ...</td>\n",
       "      <td>[1, 0, 0, 0, 0, 0, 0, 0, 0, 0, 0, 0, 0, 0, 0, ...</td>\n",
       "      <td>[1, 1, 1, 1, 1, 1, 1, 1, 1, 1, 1, 1, 1, 1, 1, ...</td>\n",
       "      <td>[1, 1, 1, 1, 1, 1, 1, 1, 1, 1, 1, 1, 1, 1, 1, ...</td>\n",
       "    </tr>\n",
       "    <tr>\n",
       "      <th>1</th>\n",
       "      <td>1</td>\n",
       "      <td>Pirates of the Caribbean: At World's End</td>\n",
       "      <td>Action, Adventure, Fantasy</td>\n",
       "      <td>[JohnnyDepp, OrlandoBloom, KeiraKnightley, Ste...</td>\n",
       "      <td>6.9</td>\n",
       "      <td>['Gore Verbinski']</td>\n",
       "      <td>[ocean, drugabuse, exoticisland, eastindiatrad...</td>\n",
       "      <td>[1, 1, 1, 0, 0, 0, 0, 0, 0, 0, 0, 0, 0, 0, 0, ...</td>\n",
       "      <td>[0, 1, 0, 0, 0, 0, 0, 0, 0, 0, 0, 0, 0, 0, 0, ...</td>\n",
       "      <td>[0, 0, 0, 0, 0, 0, 0, 0, 0, 0, 0, 0, 0, 0, 0, ...</td>\n",
       "      <td>[0, 0, 0, 0, 0, 0, 0, 0, 0, 0, 0, 0, 0, 0, 0, ...</td>\n",
       "    </tr>\n",
       "    <tr>\n",
       "      <th>2</th>\n",
       "      <td>2</td>\n",
       "      <td>Spectre</td>\n",
       "      <td>Action, Adventure, Crime</td>\n",
       "      <td>[DanielCraig, ChristophWaltz, LéaSeydoux, Ralp...</td>\n",
       "      <td>6.3</td>\n",
       "      <td>['Sam Mendes']</td>\n",
       "      <td>[spy, basedonnovel, secretagent, sequel, mi6, ...</td>\n",
       "      <td>[1, 1, 0, 0, 1, 0, 0, 0, 0, 0, 0, 0, 0, 0, 0, ...</td>\n",
       "      <td>[0, 0, 1, 0, 0, 0, 0, 0, 0, 0, 0, 0, 0, 0, 0, ...</td>\n",
       "      <td>[0, 0, 0, 0, 0, 0, 0, 0, 0, 0, 0, 0, 0, 0, 0, ...</td>\n",
       "      <td>[0, 0, 0, 0, 0, 0, 0, 0, 0, 0, 0, 0, 0, 0, 0, ...</td>\n",
       "    </tr>\n",
       "    <tr>\n",
       "      <th>3</th>\n",
       "      <td>3</td>\n",
       "      <td>The Dark Knight Rises</td>\n",
       "      <td>Action, Crime, Drama, Thriller</td>\n",
       "      <td>[ChristianBale, MichaelCaine, GaryOldman, Anne...</td>\n",
       "      <td>7.6</td>\n",
       "      <td>['Christopher Nolan']</td>\n",
       "      <td>[dccomics, crimefighter, terrorist, secretiden...</td>\n",
       "      <td>[1, 0, 0, 0, 1, 1, 1, 0, 0, 0, 0, 0, 0, 0, 0, ...</td>\n",
       "      <td>[0, 0, 0, 1, 0, 0, 0, 0, 0, 0, 0, 0, 0, 0, 0, ...</td>\n",
       "      <td>[0, 0, 0, 0, 0, 0, 0, 0, 0, 0, 0, 0, 0, 0, 0, ...</td>\n",
       "      <td>[0, 0, 0, 0, 0, 0, 0, 0, 0, 0, 0, 0, 0, 0, 0, ...</td>\n",
       "    </tr>\n",
       "    <tr>\n",
       "      <th>4</th>\n",
       "      <td>4</td>\n",
       "      <td>John Carter</td>\n",
       "      <td>Action, Adventure, ScienceFiction</td>\n",
       "      <td>[TaylorKitsch, LynnCollins, SamanthaMorton, Wi...</td>\n",
       "      <td>6.1</td>\n",
       "      <td>['Andrew Stanton']</td>\n",
       "      <td>[basedonnovel, mars, medallion, spacetravel, p...</td>\n",
       "      <td>[1, 1, 0, 1, 0, 0, 0, 0, 0, 0, 0, 0, 0, 0, 0, ...</td>\n",
       "      <td>[0, 0, 0, 0, 1, 0, 0, 0, 0, 0, 0, 0, 0, 0, 0, ...</td>\n",
       "      <td>[0, 0, 0, 0, 0, 0, 0, 0, 0, 0, 0, 0, 0, 0, 0, ...</td>\n",
       "      <td>[0, 0, 0, 0, 0, 1, 0, 0, 0, 1, 0, 0, 0, 0, 0, ...</td>\n",
       "    </tr>\n",
       "  </tbody>\n",
       "</table>\n",
       "</div>"
      ],
      "text/plain": [
       "   new_id                            original_title  \\\n",
       "0       0                                    Avatar   \n",
       "1       1  Pirates of the Caribbean: At World's End   \n",
       "2       2                                   Spectre   \n",
       "3       3                     The Dark Knight Rises   \n",
       "4       4                               John Carter   \n",
       "\n",
       "                                       genres  \\\n",
       "0  Action, Adventure, Fantasy, ScienceFiction   \n",
       "1                  Action, Adventure, Fantasy   \n",
       "2                    Action, Adventure, Crime   \n",
       "3              Action, Crime, Drama, Thriller   \n",
       "4           Action, Adventure, ScienceFiction   \n",
       "\n",
       "                                                cast  vote_average  \\\n",
       "0  [SamWorthington, ZoeSaldana, SigourneyWeaver, ...           7.2   \n",
       "1  [JohnnyDepp, OrlandoBloom, KeiraKnightley, Ste...           6.9   \n",
       "2  [DanielCraig, ChristophWaltz, LéaSeydoux, Ralp...           6.3   \n",
       "3  [ChristianBale, MichaelCaine, GaryOldman, Anne...           7.6   \n",
       "4  [TaylorKitsch, LynnCollins, SamanthaMorton, Wi...           6.1   \n",
       "\n",
       "                director                                           keywords  \\\n",
       "0      ['James Cameron']  [cultureclash, future, spacewar, spacecolony, ...   \n",
       "1     ['Gore Verbinski']  [ocean, drugabuse, exoticisland, eastindiatrad...   \n",
       "2         ['Sam Mendes']  [spy, basedonnovel, secretagent, sequel, mi6, ...   \n",
       "3  ['Christopher Nolan']  [dccomics, crimefighter, terrorist, secretiden...   \n",
       "4     ['Andrew Stanton']  [basedonnovel, mars, medallion, spacetravel, p...   \n",
       "\n",
       "                                       binary_genres  \\\n",
       "0  [1, 1, 1, 1, 0, 0, 0, 0, 0, 0, 0, 0, 0, 0, 0, ...   \n",
       "1  [1, 1, 1, 0, 0, 0, 0, 0, 0, 0, 0, 0, 0, 0, 0, ...   \n",
       "2  [1, 1, 0, 0, 1, 0, 0, 0, 0, 0, 0, 0, 0, 0, 0, ...   \n",
       "3  [1, 0, 0, 0, 1, 1, 1, 0, 0, 0, 0, 0, 0, 0, 0, ...   \n",
       "4  [1, 1, 0, 1, 0, 0, 0, 0, 0, 0, 0, 0, 0, 0, 0, ...   \n",
       "\n",
       "                                     binary_director  \\\n",
       "0  [1, 0, 0, 0, 0, 0, 0, 0, 0, 0, 0, 0, 0, 0, 0, ...   \n",
       "1  [0, 1, 0, 0, 0, 0, 0, 0, 0, 0, 0, 0, 0, 0, 0, ...   \n",
       "2  [0, 0, 1, 0, 0, 0, 0, 0, 0, 0, 0, 0, 0, 0, 0, ...   \n",
       "3  [0, 0, 0, 1, 0, 0, 0, 0, 0, 0, 0, 0, 0, 0, 0, ...   \n",
       "4  [0, 0, 0, 0, 1, 0, 0, 0, 0, 0, 0, 0, 0, 0, 0, ...   \n",
       "\n",
       "                                         binary_cast  \\\n",
       "0  [1, 1, 1, 1, 1, 1, 1, 1, 1, 1, 1, 1, 1, 1, 1, ...   \n",
       "1  [0, 0, 0, 0, 0, 0, 0, 0, 0, 0, 0, 0, 0, 0, 0, ...   \n",
       "2  [0, 0, 0, 0, 0, 0, 0, 0, 0, 0, 0, 0, 0, 0, 0, ...   \n",
       "3  [0, 0, 0, 0, 0, 0, 0, 0, 0, 0, 0, 0, 0, 0, 0, ...   \n",
       "4  [0, 0, 0, 0, 0, 0, 0, 0, 0, 0, 0, 0, 0, 0, 0, ...   \n",
       "\n",
       "                                        binary_words  \n",
       "0  [1, 1, 1, 1, 1, 1, 1, 1, 1, 1, 1, 1, 1, 1, 1, ...  \n",
       "1  [0, 0, 0, 0, 0, 0, 0, 0, 0, 0, 0, 0, 0, 0, 0, ...  \n",
       "2  [0, 0, 0, 0, 0, 0, 0, 0, 0, 0, 0, 0, 0, 0, 0, ...  \n",
       "3  [0, 0, 0, 0, 0, 0, 0, 0, 0, 0, 0, 0, 0, 0, 0, ...  \n",
       "4  [0, 0, 0, 0, 0, 1, 0, 0, 0, 1, 0, 0, 0, 0, 0, ...  "
      ]
     },
     "execution_count": 22,
     "metadata": {},
     "output_type": "execute_result"
    }
   ],
   "source": [
    "movies.head()"
   ]
  },
  {
   "cell_type": "code",
   "execution_count": 23,
   "id": "b7b7c2fa",
   "metadata": {},
   "outputs": [],
   "source": [
    "movies = movies[(movies['vote_average']!=0)]\n",
    "movies = movies[movies['director']!='']"
   ]
  },
  {
   "cell_type": "code",
   "execution_count": 24,
   "id": "4d6650a7",
   "metadata": {},
   "outputs": [
    {
     "data": {
      "text/html": [
       "<div>\n",
       "<style scoped>\n",
       "    .dataframe tbody tr th:only-of-type {\n",
       "        vertical-align: middle;\n",
       "    }\n",
       "\n",
       "    .dataframe tbody tr th {\n",
       "        vertical-align: top;\n",
       "    }\n",
       "\n",
       "    .dataframe thead th {\n",
       "        text-align: right;\n",
       "    }\n",
       "</style>\n",
       "<table border=\"1\" class=\"dataframe\">\n",
       "  <thead>\n",
       "    <tr style=\"text-align: right;\">\n",
       "      <th></th>\n",
       "      <th>new_id</th>\n",
       "      <th>original_title</th>\n",
       "      <th>genres</th>\n",
       "      <th>cast</th>\n",
       "      <th>vote_average</th>\n",
       "      <th>director</th>\n",
       "      <th>keywords</th>\n",
       "      <th>binary_genres</th>\n",
       "      <th>binary_director</th>\n",
       "      <th>binary_cast</th>\n",
       "      <th>binary_words</th>\n",
       "    </tr>\n",
       "  </thead>\n",
       "  <tbody>\n",
       "    <tr>\n",
       "      <th>0</th>\n",
       "      <td>0</td>\n",
       "      <td>Avatar</td>\n",
       "      <td>Action, Adventure, Fantasy, ScienceFiction</td>\n",
       "      <td>[SamWorthington, ZoeSaldana, SigourneyWeaver, ...</td>\n",
       "      <td>7.2</td>\n",
       "      <td>['James Cameron']</td>\n",
       "      <td>[cultureclash, future, spacewar, spacecolony, ...</td>\n",
       "      <td>[1, 1, 1, 1, 0, 0, 0, 0, 0, 0, 0, 0, 0, 0, 0, ...</td>\n",
       "      <td>[1, 0, 0, 0, 0, 0, 0, 0, 0, 0, 0, 0, 0, 0, 0, ...</td>\n",
       "      <td>[1, 1, 1, 1, 1, 1, 1, 1, 1, 1, 1, 1, 1, 1, 1, ...</td>\n",
       "      <td>[1, 1, 1, 1, 1, 1, 1, 1, 1, 1, 1, 1, 1, 1, 1, ...</td>\n",
       "    </tr>\n",
       "    <tr>\n",
       "      <th>1</th>\n",
       "      <td>1</td>\n",
       "      <td>Pirates of the Caribbean: At World's End</td>\n",
       "      <td>Action, Adventure, Fantasy</td>\n",
       "      <td>[JohnnyDepp, OrlandoBloom, KeiraKnightley, Ste...</td>\n",
       "      <td>6.9</td>\n",
       "      <td>['Gore Verbinski']</td>\n",
       "      <td>[ocean, drugabuse, exoticisland, eastindiatrad...</td>\n",
       "      <td>[1, 1, 1, 0, 0, 0, 0, 0, 0, 0, 0, 0, 0, 0, 0, ...</td>\n",
       "      <td>[0, 1, 0, 0, 0, 0, 0, 0, 0, 0, 0, 0, 0, 0, 0, ...</td>\n",
       "      <td>[0, 0, 0, 0, 0, 0, 0, 0, 0, 0, 0, 0, 0, 0, 0, ...</td>\n",
       "      <td>[0, 0, 0, 0, 0, 0, 0, 0, 0, 0, 0, 0, 0, 0, 0, ...</td>\n",
       "    </tr>\n",
       "    <tr>\n",
       "      <th>2</th>\n",
       "      <td>2</td>\n",
       "      <td>Spectre</td>\n",
       "      <td>Action, Adventure, Crime</td>\n",
       "      <td>[DanielCraig, ChristophWaltz, LéaSeydoux, Ralp...</td>\n",
       "      <td>6.3</td>\n",
       "      <td>['Sam Mendes']</td>\n",
       "      <td>[spy, basedonnovel, secretagent, sequel, mi6, ...</td>\n",
       "      <td>[1, 1, 0, 0, 1, 0, 0, 0, 0, 0, 0, 0, 0, 0, 0, ...</td>\n",
       "      <td>[0, 0, 1, 0, 0, 0, 0, 0, 0, 0, 0, 0, 0, 0, 0, ...</td>\n",
       "      <td>[0, 0, 0, 0, 0, 0, 0, 0, 0, 0, 0, 0, 0, 0, 0, ...</td>\n",
       "      <td>[0, 0, 0, 0, 0, 0, 0, 0, 0, 0, 0, 0, 0, 0, 0, ...</td>\n",
       "    </tr>\n",
       "    <tr>\n",
       "      <th>3</th>\n",
       "      <td>3</td>\n",
       "      <td>The Dark Knight Rises</td>\n",
       "      <td>Action, Crime, Drama, Thriller</td>\n",
       "      <td>[ChristianBale, MichaelCaine, GaryOldman, Anne...</td>\n",
       "      <td>7.6</td>\n",
       "      <td>['Christopher Nolan']</td>\n",
       "      <td>[dccomics, crimefighter, terrorist, secretiden...</td>\n",
       "      <td>[1, 0, 0, 0, 1, 1, 1, 0, 0, 0, 0, 0, 0, 0, 0, ...</td>\n",
       "      <td>[0, 0, 0, 1, 0, 0, 0, 0, 0, 0, 0, 0, 0, 0, 0, ...</td>\n",
       "      <td>[0, 0, 0, 0, 0, 0, 0, 0, 0, 0, 0, 0, 0, 0, 0, ...</td>\n",
       "      <td>[0, 0, 0, 0, 0, 0, 0, 0, 0, 0, 0, 0, 0, 0, 0, ...</td>\n",
       "    </tr>\n",
       "    <tr>\n",
       "      <th>4</th>\n",
       "      <td>4</td>\n",
       "      <td>John Carter</td>\n",
       "      <td>Action, Adventure, ScienceFiction</td>\n",
       "      <td>[TaylorKitsch, LynnCollins, SamanthaMorton, Wi...</td>\n",
       "      <td>6.1</td>\n",
       "      <td>['Andrew Stanton']</td>\n",
       "      <td>[basedonnovel, mars, medallion, spacetravel, p...</td>\n",
       "      <td>[1, 1, 0, 1, 0, 0, 0, 0, 0, 0, 0, 0, 0, 0, 0, ...</td>\n",
       "      <td>[0, 0, 0, 0, 1, 0, 0, 0, 0, 0, 0, 0, 0, 0, 0, ...</td>\n",
       "      <td>[0, 0, 0, 0, 0, 0, 0, 0, 0, 0, 0, 0, 0, 0, 0, ...</td>\n",
       "      <td>[0, 0, 0, 0, 0, 1, 0, 0, 0, 1, 0, 0, 0, 0, 0, ...</td>\n",
       "    </tr>\n",
       "  </tbody>\n",
       "</table>\n",
       "</div>"
      ],
      "text/plain": [
       "   new_id                            original_title  \\\n",
       "0       0                                    Avatar   \n",
       "1       1  Pirates of the Caribbean: At World's End   \n",
       "2       2                                   Spectre   \n",
       "3       3                     The Dark Knight Rises   \n",
       "4       4                               John Carter   \n",
       "\n",
       "                                       genres  \\\n",
       "0  Action, Adventure, Fantasy, ScienceFiction   \n",
       "1                  Action, Adventure, Fantasy   \n",
       "2                    Action, Adventure, Crime   \n",
       "3              Action, Crime, Drama, Thriller   \n",
       "4           Action, Adventure, ScienceFiction   \n",
       "\n",
       "                                                cast  vote_average  \\\n",
       "0  [SamWorthington, ZoeSaldana, SigourneyWeaver, ...           7.2   \n",
       "1  [JohnnyDepp, OrlandoBloom, KeiraKnightley, Ste...           6.9   \n",
       "2  [DanielCraig, ChristophWaltz, LéaSeydoux, Ralp...           6.3   \n",
       "3  [ChristianBale, MichaelCaine, GaryOldman, Anne...           7.6   \n",
       "4  [TaylorKitsch, LynnCollins, SamanthaMorton, Wi...           6.1   \n",
       "\n",
       "                director                                           keywords  \\\n",
       "0      ['James Cameron']  [cultureclash, future, spacewar, spacecolony, ...   \n",
       "1     ['Gore Verbinski']  [ocean, drugabuse, exoticisland, eastindiatrad...   \n",
       "2         ['Sam Mendes']  [spy, basedonnovel, secretagent, sequel, mi6, ...   \n",
       "3  ['Christopher Nolan']  [dccomics, crimefighter, terrorist, secretiden...   \n",
       "4     ['Andrew Stanton']  [basedonnovel, mars, medallion, spacetravel, p...   \n",
       "\n",
       "                                       binary_genres  \\\n",
       "0  [1, 1, 1, 1, 0, 0, 0, 0, 0, 0, 0, 0, 0, 0, 0, ...   \n",
       "1  [1, 1, 1, 0, 0, 0, 0, 0, 0, 0, 0, 0, 0, 0, 0, ...   \n",
       "2  [1, 1, 0, 0, 1, 0, 0, 0, 0, 0, 0, 0, 0, 0, 0, ...   \n",
       "3  [1, 0, 0, 0, 1, 1, 1, 0, 0, 0, 0, 0, 0, 0, 0, ...   \n",
       "4  [1, 1, 0, 1, 0, 0, 0, 0, 0, 0, 0, 0, 0, 0, 0, ...   \n",
       "\n",
       "                                     binary_director  \\\n",
       "0  [1, 0, 0, 0, 0, 0, 0, 0, 0, 0, 0, 0, 0, 0, 0, ...   \n",
       "1  [0, 1, 0, 0, 0, 0, 0, 0, 0, 0, 0, 0, 0, 0, 0, ...   \n",
       "2  [0, 0, 1, 0, 0, 0, 0, 0, 0, 0, 0, 0, 0, 0, 0, ...   \n",
       "3  [0, 0, 0, 1, 0, 0, 0, 0, 0, 0, 0, 0, 0, 0, 0, ...   \n",
       "4  [0, 0, 0, 0, 1, 0, 0, 0, 0, 0, 0, 0, 0, 0, 0, ...   \n",
       "\n",
       "                                         binary_cast  \\\n",
       "0  [1, 1, 1, 1, 1, 1, 1, 1, 1, 1, 1, 1, 1, 1, 1, ...   \n",
       "1  [0, 0, 0, 0, 0, 0, 0, 0, 0, 0, 0, 0, 0, 0, 0, ...   \n",
       "2  [0, 0, 0, 0, 0, 0, 0, 0, 0, 0, 0, 0, 0, 0, 0, ...   \n",
       "3  [0, 0, 0, 0, 0, 0, 0, 0, 0, 0, 0, 0, 0, 0, 0, ...   \n",
       "4  [0, 0, 0, 0, 0, 0, 0, 0, 0, 0, 0, 0, 0, 0, 0, ...   \n",
       "\n",
       "                                        binary_words  \n",
       "0  [1, 1, 1, 1, 1, 1, 1, 1, 1, 1, 1, 1, 1, 1, 1, ...  \n",
       "1  [0, 0, 0, 0, 0, 0, 0, 0, 0, 0, 0, 0, 0, 0, 0, ...  \n",
       "2  [0, 0, 0, 0, 0, 0, 0, 0, 0, 0, 0, 0, 0, 0, 0, ...  \n",
       "3  [0, 0, 0, 0, 0, 0, 0, 0, 0, 0, 0, 0, 0, 0, 0, ...  \n",
       "4  [0, 0, 0, 0, 0, 1, 0, 0, 0, 1, 0, 0, 0, 0, 0, ...  "
      ]
     },
     "execution_count": 24,
     "metadata": {},
     "output_type": "execute_result"
    }
   ],
   "source": [
    "movies['new_id']= range(movies.shape[0])\n",
    "movies.head()"
   ]
  },
  {
   "cell_type": "markdown",
   "id": "86de2ea4",
   "metadata": {},
   "source": [
    "## Similarity Between Movies"
   ]
  },
  {
   "cell_type": "markdown",
   "id": "2802bbe4",
   "metadata": {},
   "source": [
    "### Euclidean Distance"
   ]
  },
  {
   "cell_type": "code",
   "execution_count": 25,
   "id": "f78bd618",
   "metadata": {},
   "outputs": [],
   "source": [
    "from scipy import spatial\n",
    "\n",
    "def distance(movieId1, movieId2):\n",
    "    a = movies.iloc[movieId1]\n",
    "    b = movies.iloc[movieId2]\n",
    "    \n",
    "    genresA = a['binary_genres']\n",
    "    genresB = b['binary_genres']\n",
    "    \n",
    "    genredistance = spatial.distance.euclidean(genresA, genresB)\n",
    "    \n",
    "    castA = a['binary_cast']\n",
    "    castB = b['binary_cast']\n",
    "    castdistance = spatial.distance.euclidean(castA, castB)\n",
    "    \n",
    "    directA = a['binary_director']\n",
    "    directB = b['binary_director']\n",
    "    directdistance = spatial.distance.euclidean(directA, directB)\n",
    "    \n",
    "    wordsA = a['binary_words']\n",
    "    wordsB = b['binary_words']\n",
    "    wordsdistance = spatial.distance.euclidean(directA, directB)\n",
    "    \n",
    "    return genredistance + directdistance + castdistance + wordsdistance"
   ]
  },
  {
   "cell_type": "code",
   "execution_count": 26,
   "id": "b4939218",
   "metadata": {},
   "outputs": [
    {
     "data": {
      "text/plain": [
       "18.35461369815139"
      ]
     },
     "execution_count": 26,
     "metadata": {},
     "output_type": "execute_result"
    }
   ],
   "source": [
    "distance(3, 50)"
   ]
  },
  {
   "cell_type": "code",
   "execution_count": 27,
   "id": "efff709d",
   "metadata": {},
   "outputs": [
    {
     "name": "stdout",
     "output_type": "stream",
     "text": [
      "new_id                                                             3\n",
      "original_title                                 The Dark Knight Rises\n",
      "genres                                Action, Crime, Drama, Thriller\n",
      "cast               [ChristianBale, MichaelCaine, GaryOldman, Anne...\n",
      "vote_average                                                     7.6\n",
      "director                                       ['Christopher Nolan']\n",
      "keywords           [dccomics, crimefighter, terrorist, secretiden...\n",
      "binary_genres      [1, 0, 0, 0, 1, 1, 1, 0, 0, 0, 0, 0, 0, 0, 0, ...\n",
      "binary_director    [0, 0, 0, 1, 0, 0, 0, 0, 0, 0, 0, 0, 0, 0, 0, ...\n",
      "binary_cast        [0, 0, 0, 0, 0, 0, 0, 0, 0, 0, 0, 0, 0, 0, 0, ...\n",
      "binary_words       [0, 0, 0, 0, 0, 0, 0, 0, 0, 0, 0, 0, 0, 0, 0, ...\n",
      "Name: 3, dtype: object\n",
      "new_id                                                            50\n",
      "original_title                   Prince of Persia: The Sands of Time\n",
      "genres                           Action, Adventure, Fantasy, Romance\n",
      "cast               [JakeGyllenhaal, GemmaArterton, BenKingsley, A...\n",
      "vote_average                                                     6.2\n",
      "director                                             ['Mike Newell']\n",
      "keywords           [persia, sandstorm, brotheragainstbrother, arm...\n",
      "binary_genres      [1, 1, 1, 0, 0, 0, 0, 0, 0, 0, 0, 1, 0, 0, 0, ...\n",
      "binary_director    [0, 0, 0, 0, 0, 0, 0, 0, 0, 0, 0, 0, 0, 0, 0, ...\n",
      "binary_cast        [0, 0, 0, 0, 0, 0, 0, 0, 0, 0, 0, 0, 0, 0, 0, ...\n",
      "binary_words       [0, 0, 0, 0, 0, 0, 0, 0, 0, 0, 0, 0, 0, 0, 0, ...\n",
      "Name: 50, dtype: object\n"
     ]
    }
   ],
   "source": [
    "print(movies.iloc[3])\n",
    "print(movies.iloc[50])"
   ]
  },
  {
   "cell_type": "markdown",
   "id": "bd9e411e",
   "metadata": {},
   "source": [
    "### Recommend Movie"
   ]
  },
  {
   "cell_type": "code",
   "execution_count": 28,
   "id": "51255de0",
   "metadata": {},
   "outputs": [],
   "source": [
    "import operator\n",
    "\n",
    "def calculate_similarity(movie1_id, movie2_id):\n",
    "    return distance(movie1_id, movie2_id)\n",
    "\n",
    "def get_neighbors(base_movie, k):\n",
    "    distances = []\n",
    "\n",
    "    for index, movie in movies.iterrows():\n",
    "        if movie['new_id'] != base_movie['new_id'].values[0].astype(int):\n",
    "            dist = calculate_similarity(base_movie['new_id'].values[0], movie['new_id'])\n",
    "            distances.append((movie['new_id'], dist))\n",
    "\n",
    "    distances.sort(key=operator.itemgetter(1))\n",
    "    return distances[:k]\n",
    "\n",
    "def recommend_movie(movie_name, k=10):\n",
    "    new_movie = movies[movies['original_title'].str.contains(movie_name)].iloc[0].to_frame().T\n",
    "    \n",
    "    print('Selected Movie: ', new_movie.original_title.values[0])\n",
    "    \n",
    "    neighbors = get_neighbors(new_movie, k)\n",
    "    \n",
    "    print('\\nRecommended Movies: \\n')\n",
    "    for neighbor in neighbors:\n",
    "        movie_info = movies.iloc[neighbor[0]]\n",
    "        print(f\"{movie_info['original_title']} | Genres: {str(movie_info['genres']).strip('[]').replace(' ', '')} | Rating: {movie_info['vote_average']}\")"
   ]
  },
  {
   "cell_type": "code",
   "execution_count": 29,
   "id": "dc93423c",
   "metadata": {},
   "outputs": [
    {
     "name": "stdout",
     "output_type": "stream",
     "text": [
      "Selected Movie:  The Dark Knight Rises\n",
      "\n",
      "Recommended Movies: \n",
      "\n",
      "Memento | Genres: Mystery,Thriller | Rating: 8.1\n",
      "Insomnia | Genres: Crime,Mystery,Thriller | Rating: 6.8\n",
      "Inception | Genres: Action,Adventure,Mystery,ScienceFiction,Thriller | Rating: 8.1\n",
      "Jimmy and Judy | Genres: Action,Crime,Drama,Thriller | Rating: 5.4\n",
      "The Prestige | Genres: Drama,Mystery,Thriller | Rating: 8.0\n",
      "The Hunted | Genres: Action,Crime,Drama,Thriller | Rating: 6.0\n",
      "Interstellar | Genres: Adventure,Drama,ScienceFiction | Rating: 8.1\n",
      "Kiss of Death | Genres: Action,Crime,Drama,Thriller | Rating: 5.7\n",
      "In Too Deep | Genres: Action,Crime,Drama,Thriller | Rating: 6.2\n",
      "ต้มยำกุ้ง | Genres: Action,Crime,Drama,Thriller | Rating: 6.8\n"
     ]
    }
   ],
   "source": [
    "recommend_movie('The Dark Knight')"
   ]
  },
  {
   "cell_type": "code",
   "execution_count": 30,
   "id": "1d3470c0",
   "metadata": {},
   "outputs": [
    {
     "name": "stdout",
     "output_type": "stream",
     "text": [
      "Selected Movie:  Interstellar\n",
      "\n",
      "Recommended Movies: \n",
      "\n",
      "Memento | Genres: Mystery,Thriller | Rating: 8.1\n",
      "Silent Running | Genres: Adventure,Drama,ScienceFiction | Rating: 6.3\n",
      "Inception | Genres: Action,Adventure,Mystery,ScienceFiction,Thriller | Rating: 8.1\n",
      "Gerry | Genres: Adventure,Drama,Mystery | Rating: 6.2\n",
      "End of the Spear | Genres: Adventure,Drama | Rating: 6.1\n",
      "Insomnia | Genres: Crime,Mystery,Thriller | Rating: 6.8\n",
      "20,000 Leagues Under the Sea | Genres: Adventure,Drama,ScienceFiction | Rating: 6.8\n",
      "All Is Lost | Genres: Action,Adventure,Drama | Rating: 6.6\n",
      "Straight Out of Brooklyn | Genres: Drama | Rating: 4.3\n",
      "Miss Julie | Genres: Drama | Rating: 5.9\n"
     ]
    }
   ],
   "source": [
    "recommend_movie('Interstellar')"
   ]
  }
 ],
 "metadata": {
  "kernelspec": {
   "display_name": "Python 3 (ipykernel)",
   "language": "python",
   "name": "python3"
  },
  "language_info": {
   "codemirror_mode": {
    "name": "ipython",
    "version": 3
   },
   "file_extension": ".py",
   "mimetype": "text/x-python",
   "name": "python",
   "nbconvert_exporter": "python",
   "pygments_lexer": "ipython3",
   "version": "3.9.7"
  }
 },
 "nbformat": 4,
 "nbformat_minor": 5
}
