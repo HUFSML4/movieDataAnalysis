{
 "cells": [
  {
   "cell_type": "code",
   "execution_count": 1,
   "id": "a743fc01",
   "metadata": {},
   "outputs": [],
   "source": [
    "import pandas as pd"
   ]
  },
  {
   "cell_type": "code",
   "execution_count": 2,
   "id": "b791b442",
   "metadata": {},
   "outputs": [],
   "source": [
    "movies = pd.read_csv('C:/Users/maste/Documents/대학교/대학교 3학년 2학기/기계학습/Final Project/movies.csv')"
   ]
  },
  {
   "cell_type": "code",
   "execution_count": 3,
   "id": "49fa058a",
   "metadata": {},
   "outputs": [],
   "source": [
    "movies = movies.drop(movies.columns[0],axis=1)"
   ]
  },
  {
   "cell_type": "markdown",
   "id": "86de2ea4",
   "metadata": {},
   "source": [
    "## Similarity Between Movies"
   ]
  },
  {
   "cell_type": "markdown",
   "id": "2802bbe4",
   "metadata": {},
   "source": [
    "### Cosine Similarity"
   ]
  },
  {
   "cell_type": "code",
   "execution_count": 4,
   "id": "fb716dd9",
   "metadata": {},
   "outputs": [],
   "source": [
    "from scipy import spatial\n",
    "import ast  # Import the ast module for literal_eval\n",
    "\n",
    "def convert_to_binary_list(binary_str):\n",
    "    # Convert a string representation of a list to an actual list\n",
    "    try:\n",
    "        binary_list = ast.literal_eval(binary_str)\n",
    "        return binary_list\n",
    "    except (SyntaxError, ValueError):\n",
    "        # Handle the case where the string cannot be evaluated as a list\n",
    "        return []\n",
    "\n",
    "def Similarity(movieId1, movieId2):\n",
    "    a = movies.iloc[movieId1]\n",
    "    b = movies.iloc[movieId2]\n",
    "    \n",
    "    genresA = convert_to_binary_list(a['binary_genres'])\n",
    "    genresB = convert_to_binary_list(b['binary_genres'])\n",
    "    \n",
    "    genreDistance = spatial.distance.cosine(genresA, genresB)\n",
    "    \n",
    "    castA = convert_to_binary_list(a['binary_cast'])\n",
    "    castB = convert_to_binary_list(b['binary_cast'])\n",
    "    castDistance = spatial.distance.cosine(castA, castB)\n",
    "    \n",
    "    directA = convert_to_binary_list(a['binary_director'])\n",
    "    directB = convert_to_binary_list(b['binary_director'])\n",
    "    directDistance = spatial.distance.cosine(directA, directB)\n",
    "    \n",
    "    wordsA = convert_to_binary_list(a['binary_words'])\n",
    "    wordsB = convert_to_binary_list(b['binary_words'])\n",
    "    wordsDistance = spatial.distance.cosine(wordsA, wordsB)\n",
    "    \n",
    "    return genreDistance + directDistance + castDistance + wordsDistance"
   ]
  },
  {
   "cell_type": "markdown",
   "id": "bd9e411e",
   "metadata": {},
   "source": [
    "### Recommend Movie"
   ]
  },
  {
   "cell_type": "code",
   "execution_count": 5,
   "id": "51255de0",
   "metadata": {},
   "outputs": [],
   "source": [
    "import operator\n",
    "\n",
    "def recommend_movie(name):\n",
    "    new_movie = movies[movies['original_title'].str.contains(name)].iloc[0].to_frame().T\n",
    "    \n",
    "    print('Selected Movie: ', new_movie.original_title.values[0])\n",
    "    \n",
    "    def getNeighbors(baseMovie, K):\n",
    "        distances = []\n",
    "\n",
    "        for index, movie in movies.iterrows():\n",
    "            if movie['new_id'] != baseMovie['new_id'].values[0].astype(int):\n",
    "                dist = Similarity(baseMovie['new_id'].values[0], movie['new_id'])\n",
    "                distances.append((movie['new_id'], dist))\n",
    "\n",
    "        distances.sort(key=operator.itemgetter(1))\n",
    "        neighbors = []\n",
    "\n",
    "        for x in range(min(K, len(distances))):\n",
    "            neighbors.append(distances[x])\n",
    "\n",
    "        return neighbors\n",
    "    \n",
    "    K = 10\n",
    "    neighbors = getNeighbors(new_movie, K)\n",
    "    \n",
    "    print('\\nRecommended Movies: \\n')\n",
    "    for neighbor in neighbors:\n",
    "        print(\n",
    "        str(movies.iloc[neighbor[0]][1]) +\n",
    "        \" | Genres: \" +\n",
    "        str(movies.iloc[neighbor[0]][2]).strip('[]').replace(' ', '') +\n",
    "        \" | Rating: \" +\n",
    "        str(movies.iloc[neighbor[0]][4]))"
   ]
  },
  {
   "cell_type": "code",
   "execution_count": 6,
   "id": "1d189c56",
   "metadata": {},
   "outputs": [
    {
     "name": "stdout",
     "output_type": "stream",
     "text": [
      "Selected Movie:  The Dark Knight Rises\n"
     ]
    },
    {
     "name": "stderr",
     "output_type": "stream",
     "text": [
      "C:\\Users\\maste\\anaconda3\\lib\\site-packages\\scipy\\spatial\\distance.py:699: RuntimeWarning: invalid value encountered in double_scalars\n",
      "  dist = 1.0 - uv / np.sqrt(uu * vv)\n"
     ]
    },
    {
     "name": "stdout",
     "output_type": "stream",
     "text": [
      "\n",
      "Recommended Movies: \n",
      "\n",
      "The Dark Knight | Genres: 'Action','Crime','Drama','Thriller' | Rating: 8.2\n",
      "Batman Begins | Genres: 'Action','Crime','Drama' | Rating: 7.5\n",
      "The Prestige | Genres: 'Drama','Mystery','Thriller' | Rating: 8.0\n",
      "Insomnia | Genres: 'Crime','Mystery','Thriller' | Rating: 6.8\n",
      "Inception | Genres: 'Action','Adventure','Mystery','ScienceFiction','Thriller' | Rating: 8.1\n",
      "Interstellar | Genres: 'Adventure','Drama','ScienceFiction' | Rating: 8.1\n",
      "Memento | Genres: 'Mystery','Thriller' | Rating: 8.1\n",
      "Takers | Genres: 'Action','Crime','Drama','Thriller' | Rating: 6.0\n",
      "Mercury Rising | Genres: 'Action','Crime','Drama','Thriller' | Rating: 6.0\n",
      "Harry Brown | Genres: 'Action','Crime','Drama','Thriller' | Rating: 6.7\n"
     ]
    }
   ],
   "source": [
    "recommend_movie('The Dark Knight')"
   ]
  },
  {
   "cell_type": "code",
   "execution_count": null,
   "id": "c308bbee",
   "metadata": {},
   "outputs": [],
   "source": []
  }
 ],
 "metadata": {
  "kernelspec": {
   "display_name": "Python 3 (ipykernel)",
   "language": "python",
   "name": "python3"
  },
  "language_info": {
   "codemirror_mode": {
    "name": "ipython",
    "version": 3
   },
   "file_extension": ".py",
   "mimetype": "text/x-python",
   "name": "python",
   "nbconvert_exporter": "python",
   "pygments_lexer": "ipython3",
   "version": "3.9.7"
  }
 },
 "nbformat": 4,
 "nbformat_minor": 5
}
