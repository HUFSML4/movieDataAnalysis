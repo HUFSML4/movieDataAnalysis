{
 "cells": [
  {
   "cell_type": "markdown",
   "id": "bbc5a239",
   "metadata": {},
   "source": [
    "### Genre Data Visualization"
   ]
  },
  {
   "cell_type": "code",
   "execution_count": null,
   "id": "eb3606f5",
   "metadata": {},
   "outputs": [],
   "source": [
    "# Genre Column 후에 작성\n",
    "\n",
    "sample_size = 500\n",
    "sampled_movies = movies.sample(sample_size, random_state=42)"
   ]
  },
  {
   "cell_type": "code",
   "execution_count": null,
   "id": "3720990b",
   "metadata": {},
   "outputs": [],
   "source": [
    "genre_list = sampled_movies['genres'].explode().unique()"
   ]
  },
  {
   "cell_type": "code",
   "execution_count": null,
   "id": "cbd45dc0",
   "metadata": {},
   "outputs": [],
   "source": [
    "genre_counts_sampled = sampled_movies['genres'].explode().value_counts()"
   ]
  },
  {
   "cell_type": "code",
   "execution_count": null,
   "id": "385bff66",
   "metadata": {},
   "outputs": [],
   "source": [
    "plt.figure(figsize=(10, 6))\n",
    "plt.bar(genre_counts_sampled.index, genre_counts_sampled.values, color='skyblue')\n",
    "plt.title('Movie Genre Distribution')\n",
    "plt.xlabel('Genre Keywords')\n",
    "plt.ylabel('Number of Movies')\n",
    "plt.xticks(rotation=45)\n",
    "plt.show()"
   ]
  }
 ],
 "metadata": {
  "kernelspec": {
   "display_name": "Python 3 (ipykernel)",
   "language": "python",
   "name": "python3"
  },
  "language_info": {
   "codemirror_mode": {
    "name": "ipython",
    "version": 3
   },
   "file_extension": ".py",
   "mimetype": "text/x-python",
   "name": "python",
   "nbconvert_exporter": "python",
   "pygments_lexer": "ipython3",
   "version": "3.9.13"
  }
 },
 "nbformat": 4,
 "nbformat_minor": 5
}
